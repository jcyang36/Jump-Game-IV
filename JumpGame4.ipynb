{
 "cells": [
  {
   "cell_type": "markdown",
   "metadata": {},
   "source": [
    "Jump Game IV\n",
    "\n",
    "Given an array of integers arr, you are initially positioned at the first index of the array.\n",
    "\n",
    "In one step you can jump from index i to index:\n",
    "\n",
    "1)   i + 1 where: i + 1 < arr.length.\n",
    "\n",
    "2)   i - 1 where: i - 1 >= 0.\n",
    "\n",
    "3)   j where: arr[i] == arr[j] and i != j.\n",
    "\n",
    "Return the minimum number of steps to reach the last index of the array.\n",
    "\n",
    "Notice that you can not jump outside of the array at any time.\n",
    "\n",
    " \n",
    "\n",
    "For original problem statement see: \n",
    "https://leetcode.com/explore/challenge/card/december-leetcoding-challenge/572/week-4-december-22nd-december-28th/3582/"
   ]
  },
  {
   "cell_type": "code",
   "execution_count": null,
   "metadata": {},
   "outputs": [],
   "source": []
  },
  {
   "cell_type": "code",
   "execution_count": 1,
   "metadata": {},
   "outputs": [],
   "source": [
    "def minJumps(arr):\n",
    "        \"\"\"\n",
    "        :type arr: List[int]\n",
    "        :rtype: int\n",
    "        \"\"\"\n",
    "        \n",
    "        \n",
    "        #Creating a graph with nodes being the indices and adjacent nodes being indices that are reachable through a jump\n",
    "        jumpdict={}\n",
    "        for index in range(len(arr)):\n",
    "            if index not in jumpdict:\n",
    "                #create an array to put the adjacent nodes\n",
    "                jumpdict[index]=[]\n",
    "                if index>0:\n",
    "                    jumpdict[index].append(index-1)\n",
    "                if index<len(arr)-1:       \n",
    "                    jumpdict[index].append(index+1)\n",
    "            for j in range(len(arr)):\n",
    "                if arr[j]==arr[index] and j!=index:   \n",
    "                    if j not in jumpdict[index]: #prevent repeats \n",
    "                        jumpdict[index].append(j)\n",
    "        \n",
    "        final = len(arr)-1    #last index of array\n",
    "        traversed={0} # represents the nodes that have been found so far\n",
    "        n=0 #counting the number of jumps from the start\n",
    "        currentNodes=[0] #represents the nodes that are n jumps away from the start \n",
    "\n",
    "        foundFinal=False\n",
    "        if len(arr)==1:\n",
    "            return(0)\n",
    "        while not foundFinal:\n",
    "            adjacentNodes=[]\n",
    "            n=n+1    #building the current level of nodes\n",
    "            for currentNode in currentNodes:\n",
    "                for adjacentNode in jumpdict[currentNode]:#all nodes that are adjacent to the current node\n",
    "                    if final==adjacentNode:\n",
    "                        foundFinal=True\n",
    "                        break\n",
    "                    if adjacentNode not in traversed: #only do logic if we haven't already traversed this node\n",
    "                        traversed.add(adjacentNode)\n",
    "                        adjacentNodes.append(adjacentNode)#add the next level of nodes to adjacentNodes\n",
    "            currentNodes=adjacentNodes\n",
    "                    \n",
    "        return(n)\n",
    "\n",
    "            "
   ]
  },
  {
   "cell_type": "code",
   "execution_count": 2,
   "metadata": {},
   "outputs": [
    {
     "data": {
      "text/plain": [
       "3"
      ]
     },
     "execution_count": 2,
     "metadata": {},
     "output_type": "execute_result"
    }
   ],
   "source": [
    "minJumps([100,-23,-23,404,100,23,23,23,3,404])"
   ]
  },
  {
   "cell_type": "code",
   "execution_count": 3,
   "metadata": {},
   "outputs": [
    {
     "data": {
      "text/plain": [
       "0"
      ]
     },
     "execution_count": 3,
     "metadata": {},
     "output_type": "execute_result"
    }
   ],
   "source": [
    "minJumps([7])"
   ]
  },
  {
   "cell_type": "code",
   "execution_count": 4,
   "metadata": {},
   "outputs": [
    {
     "data": {
      "text/plain": [
       "1"
      ]
     },
     "execution_count": 4,
     "metadata": {},
     "output_type": "execute_result"
    }
   ],
   "source": [
    "minJumps([7,6,9,6,9,6,9,7])\n"
   ]
  },
  {
   "cell_type": "code",
   "execution_count": 5,
   "metadata": {},
   "outputs": [
    {
     "data": {
      "text/plain": [
       "2"
      ]
     },
     "execution_count": 5,
     "metadata": {},
     "output_type": "execute_result"
    }
   ],
   "source": [
    "minJumps([6,1,9])\n"
   ]
  },
  {
   "cell_type": "code",
   "execution_count": 6,
   "metadata": {},
   "outputs": [
    {
     "data": {
      "text/plain": [
       "3"
      ]
     },
     "execution_count": 6,
     "metadata": {},
     "output_type": "execute_result"
    }
   ],
   "source": [
    "minJumps([11,22,7,7,7,7,7,7,7,22,13])"
   ]
  },
  {
   "cell_type": "code",
   "execution_count": 7,
   "metadata": {},
   "outputs": [
    {
     "data": {
      "text/plain": [
       "6"
      ]
     },
     "execution_count": 7,
     "metadata": {},
     "output_type": "execute_result"
    }
   ],
   "source": [
    "minJumps([1,2,3,4,5,6,-1,-2,7,6,4,2,8,9,10,11,12,13,7])"
   ]
  },
  {
   "cell_type": "code",
   "execution_count": null,
   "metadata": {},
   "outputs": [],
   "source": []
  }
 ],
 "metadata": {
  "kernelspec": {
   "display_name": "Python 3",
   "language": "python",
   "name": "python3"
  },
  "language_info": {
   "codemirror_mode": {
    "name": "ipython",
    "version": 3
   },
   "file_extension": ".py",
   "mimetype": "text/x-python",
   "name": "python",
   "nbconvert_exporter": "python",
   "pygments_lexer": "ipython3",
   "version": "3.8.3"
  }
 },
 "nbformat": 4,
 "nbformat_minor": 4
}
